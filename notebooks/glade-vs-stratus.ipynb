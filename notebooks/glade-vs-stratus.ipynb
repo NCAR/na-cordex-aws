{
 "cells": [
  {
   "cell_type": "markdown",
   "id": "5a35f916-6a71-4e67-9c1d-f446c8185f4b",
   "metadata": {},
   "source": [
    "# Glade vs. Stratus Performance for Select NA-CORDEX Zarr Stores\n",
    "\n",
    "We compared completion times for running the NA-CORDEX Visualization Cookbook between Glade as the dataset storage device, and Stratus as the storage device. \n",
    "\n",
    "The Visualization Cookbook produces three types of plots, each of which requires loading a portion of data from a Zarr store.   Below we plot the ratio of completion times for each type of plot.   In general, Stratus as a storage device is slower than Glade, so we produced the ratio: \n",
    "\n",
    "    (Stratus completion time) / (Glade completion time)\n",
    "    \n",
    "\n",
    "\n"
   ]
  },
  {
   "cell_type": "code",
   "execution_count": null,
   "id": "ec280578-65f9-4add-93d6-d88857d75645",
   "metadata": {},
   "outputs": [],
   "source": [
    "import numpy as np\n",
    "import matplotlib.pyplot as plt"
   ]
  },
  {
   "cell_type": "code",
   "execution_count": null,
   "id": "49de3471-9178-4567-a1c8-06e8f6c6a379",
   "metadata": {},
   "outputs": [],
   "source": [
    "def make_plot(ratios, scenario):\n",
    "    figWidth = 18 \n",
    "    figHeight = 12 \n",
    "\n",
    "    fig = plt.figure(figsize=(figWidth, figHeight))\n",
    "    nWorkers = [4, 8, 16, 32]\n",
    "    plt.plot(nWorkers,ratios[0],'x-', label='low compute')\n",
    "    plt.plot(nWorkers,ratios[1],'+-', label='med compute')\n",
    "    plt.plot(nWorkers,ratios[2],'o-', label='high compute')\n",
    "    plt.xlabel('Number of Workers')\n",
    "    plt.ylabel('(Stratus time) / (Glade time)')\n",
    "    plt.title(f'Time to Completion Ratio for \"{scenario}\" scenario')\n",
    "    plt.legend(loc='best')\n",
    "    return fig"
   ]
  },
  {
   "cell_type": "code",
   "execution_count": null,
   "id": "981836cc-3755-4526-bfd2-44bf9d970d14",
   "metadata": {},
   "outputs": [],
   "source": [
    "comparison = dict(stratus = [], glade = [])"
   ]
  },
  {
   "cell_type": "code",
   "execution_count": null,
   "id": "2c0f3955-29ab-4a8b-8831-83a9f58e13f0",
   "metadata": {
    "tags": []
   },
   "outputs": [],
   "source": [
    "data = dict(eval = comparison, hist = comparison)\n"
   ]
  },
  {
   "cell_type": "markdown",
   "id": "a485ceb0-169f-43ec-ba68-1330620287b9",
   "metadata": {
    "jupyter": {
     "source_hidden": true
    },
    "tags": []
   },
   "source": [
    "### Data for \"eval\" scenario (35 years)"
   ]
  },
  {
   "cell_type": "code",
   "execution_count": null,
   "id": "49500038-15ff-4153-916f-84d7f0ab847b",
   "metadata": {},
   "outputs": [],
   "source": [
    "data['eval']['stratus'] = [[228, 111, 71, 47], \n",
    "                           [351,154,104,49.9],\n",
    "                           [523,221,116,64]]"
   ]
  },
  {
   "cell_type": "code",
   "execution_count": null,
   "id": "547a234f-c46b-476e-b4ca-f417bab47ca5",
   "metadata": {},
   "outputs": [],
   "source": [
    "data['eval']['glade'] = [[73,43.5,30.2,20.8], \n",
    "                           [182,110,59.2,34.8],\n",
    "                           [291,163,92,50.7]]"
   ]
  },
  {
   "cell_type": "code",
   "execution_count": null,
   "id": "bf3872c0-7b2e-46ef-8d26-bbc0a02f2e2d",
   "metadata": {},
   "outputs": [],
   "source": [
    "# See if element-wise division is supported\n",
    "ratio = np.divide(data['eval']['stratus'], data['eval']['glade'])\n",
    "ratio"
   ]
  },
  {
   "cell_type": "code",
   "execution_count": null,
   "id": "4fa49641-934d-475a-ba65-9a1eb2f1877b",
   "metadata": {},
   "outputs": [],
   "source": [
    "np.transpose(ratio)"
   ]
  },
  {
   "cell_type": "markdown",
   "id": "94a3d24f-ebbb-4d2d-b269-0aac15bac5cb",
   "metadata": {
    "tags": []
   },
   "source": [
    "### Data for \"hist\" scenario (50 years)"
   ]
  },
  {
   "cell_type": "code",
   "execution_count": null,
   "id": "76fe7328-50e9-4c94-a19f-a412aefeb93a",
   "metadata": {},
   "outputs": [],
   "source": [
    "data['eval']['stratus'] = [[], \n",
    "                           [],\n",
    "                           []]"
   ]
  },
  {
   "cell_type": "code",
   "execution_count": null,
   "id": "558495d9-67bd-42ce-b383-a332b03e27dc",
   "metadata": {
    "tags": []
   },
   "outputs": [],
   "source": [
    "data['eval']['glade'] = [[], \n",
    "                           [],\n",
    "                           []]"
   ]
  },
  {
   "cell_type": "markdown",
   "id": "5b96bb94-60a1-4ede-ba46-1cf2e33319c7",
   "metadata": {
    "tags": []
   },
   "source": [
    "### Data for \"rcp85\" scenario (100 years)"
   ]
  },
  {
   "cell_type": "code",
   "execution_count": null,
   "id": "daff86c4-517c-4494-be15-466f21793594",
   "metadata": {},
   "outputs": [],
   "source": [
    "data['eval']['stratus'] = [[], \n",
    "                           [],\n",
    "                           []]"
   ]
  },
  {
   "cell_type": "code",
   "execution_count": null,
   "id": "eba04cb5-c3a0-4916-9469-b3201d0585b9",
   "metadata": {
    "tags": []
   },
   "outputs": [],
   "source": [
    "data['eval']['glade'] = [[], \n",
    "                           [],\n",
    "                           []]"
   ]
  },
  {
   "cell_type": "markdown",
   "id": "22de3176-8387-418b-957f-85464e6e5a4e",
   "metadata": {
    "tags": []
   },
   "source": [
    "### Data for \"hist-rcp85\" scenario (150 years)"
   ]
  },
  {
   "cell_type": "code",
   "execution_count": null,
   "id": "960383a9-26db-47a0-9d73-89a86a159e00",
   "metadata": {},
   "outputs": [],
   "source": [
    "data['eval']['stratus'] = [[700,363,205,128], \n",
    "                           [1163,636,355,189],\n",
    "                           [1665,931,519,263]]"
   ]
  },
  {
   "cell_type": "code",
   "execution_count": null,
   "id": "22180096-5738-4645-b079-c25b8d330439",
   "metadata": {
    "tags": []
   },
   "outputs": [],
   "source": [
    "data['eval']['glade'] = [[217,139,69,40.5], \n",
    "                           [709,479,228,125],\n",
    "                           [1219,819,381,199]]"
   ]
  },
  {
   "cell_type": "code",
   "execution_count": null,
   "id": "d5d51e7c-e7ae-4e43-9af3-a188c973e81f",
   "metadata": {},
   "outputs": [],
   "source": [
    "# See if element-wise division is supported\n",
    "ratios = np.divide(data['eval']['stratus'], data['eval']['glade'])\n",
    "ratios"
   ]
  },
  {
   "cell_type": "code",
   "execution_count": null,
   "id": "88c974cb-bee9-457d-95c6-41e98480dc70",
   "metadata": {},
   "outputs": [],
   "source": [
    "figure = make_plot(ratios, 'hist-rcp85')\n",
    "plt.show()"
   ]
  },
  {
   "cell_type": "code",
   "execution_count": null,
   "id": "9cdf94b8-3167-4fb3-99f0-dfdc6f1b4447",
   "metadata": {},
   "outputs": [],
   "source": []
  }
 ],
 "metadata": {
  "kernelspec": {
   "display_name": "Python 3 (ipykernel)",
   "language": "python",
   "name": "python3"
  },
  "language_info": {
   "codemirror_mode": {
    "name": "ipython",
    "version": 3
   },
   "file_extension": ".py",
   "mimetype": "text/x-python",
   "name": "python",
   "nbconvert_exporter": "python",
   "pygments_lexer": "ipython3",
   "version": "3.9.12"
  },
  "widgets": {
   "application/vnd.jupyter.widget-state+json": {
    "state": {},
    "version_major": 2,
    "version_minor": 0
   }
  }
 },
 "nbformat": 4,
 "nbformat_minor": 5
}
