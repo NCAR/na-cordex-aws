{
 "cells": [
  {
   "cell_type": "code",
   "execution_count": null,
   "id": "895b22b3-55c2-43bd-b358-d17e25e96de0",
   "metadata": {},
   "outputs": [],
   "source": [
    "import xarray as xr\n",
    "import zarr\n",
    "import os"
   ]
  },
  {
   "cell_type": "code",
   "execution_count": null,
   "id": "65705f0e-b500-4681-9286-8f4737e8eb15",
   "metadata": {},
   "outputs": [],
   "source": [
    "# Define Zarr stores to convert\n",
    "SOURCE_DIR = '/glade/scratch/bonnland/rda_transfer/ncar-na-cordex/day/'\n",
    "\n",
    "store_names = ['tmax.eval.day.NAM-22i.raw.zarr',\n",
    "    'tmax.eval.day.NAM-44i.raw.zarr',\n",
    "    'tmax.hist.day.NAM-44i.raw.zarr',\n",
    "    'tmax.hist.day.NAM-22i.raw.zarr',\n",
    "    ]"
   ]
  },
  {
   "cell_type": "markdown",
   "id": "4b010a82-80c3-48bf-b292-59abbe013f77",
   "metadata": {},
   "source": [
    "### Create ZipStores serially\n",
    "\n",
    "From what I can tell, Dask support for ZipStore creation is not present.   ZipStore files probably are most easily encoded and written to disk by a single process."
   ]
  },
  {
   "cell_type": "code",
   "execution_count": null,
   "id": "478c1355-ab0a-494a-b6b5-fc3e3099ddd2",
   "metadata": {},
   "outputs": [],
   "source": [
    "for store in store_names:\n",
    "    input_path = SOURCE_DIR + store\n",
    "    output_path = input_path.replace('.zarr','.zip')\n",
    "    if os.path.exists(output_path):\n",
    "        print(f'Store exists, skipping: {output_path}')\n",
    "        continue\n",
    "\n",
    "    ds = xr.open_zarr(input_path)\n",
    "    print(f\"Creating {output_path}...\")\n",
    "    with zarr.ZipStore(output_path) as output_store:\n",
    "        #ds.to_zarr(output_store)\n",
    "        ds.to_zarr(output_store, consolidated=True)\n",
    "    print(f\"...Done creating {output_path}\\n\")\n"
   ]
  },
  {
   "cell_type": "markdown",
   "id": "561fb2a6-22b5-4fcb-b2a6-1e5edd52aaf7",
   "metadata": {
    "tags": []
   },
   "source": [
    "#### Show which python package versions were used"
   ]
  },
  {
   "cell_type": "code",
   "execution_count": null,
   "id": "2d6b389b-08f1-4f52-8247-56cb605cabd4",
   "metadata": {
    "tags": []
   },
   "outputs": [],
   "source": [
    "%load_ext watermark\n",
    "%watermark -iv"
   ]
  }
 ],
 "metadata": {
  "kernelspec": {
   "display_name": "Python [conda env:miniconda3-na-cordex-aws]",
   "language": "python",
   "name": "conda-env-miniconda3-na-cordex-aws-py"
  },
  "language_info": {
   "codemirror_mode": {
    "name": "ipython",
    "version": 3
   },
   "file_extension": ".py",
   "mimetype": "text/x-python",
   "name": "python",
   "nbconvert_exporter": "python",
   "pygments_lexer": "ipython3",
   "version": "3.11.4"
  },
  "widgets": {
   "application/vnd.jupyter.widget-state+json": {
    "state": {},
    "version_major": 2,
    "version_minor": 0
   }
  }
 },
 "nbformat": 4,
 "nbformat_minor": 5
}
