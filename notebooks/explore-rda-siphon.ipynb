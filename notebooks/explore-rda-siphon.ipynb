{
 "cells": [
  {
   "cell_type": "markdown",
   "id": "bbab1967-5c5b-4cfd-98d0-eda72fcf625a",
   "metadata": {},
   "source": [
    "# Explore Siphon Capabilities on NCAR/ISD Thredds Data Servers\n",
    "\n",
    "Climate Data Gateway:   https://tds.ucar.edu\n",
    "\n",
    "RDA : https://thredds.rda.ucar.edu/thredds/catalog/catalog.html\n",
    "\n",
    "Unidata:  http://thredds.ucar.edu/thredds/catalog.xml\n",
    "\n",
    "ESGF Data Node:   https://esgf-data.ucar.edu/thredds/catalog/catalog.html\n",
    "\n",
    "Constrain ESGF search to NCAR node: https://esgf-node.llnl.gov/search/cmip6/?institution_id=NCAR\n",
    "\n",
    "Aggregation Subset case to try eventually:  https://thredds.ucar.edu/thredds/catalog/grib/NCEP/GFS/Global_0p5deg/catalog.html\n",
    "\n",
    "CORDEX datasets on Glade:  /glade/campaign/collections/cdg/data/cordex/data\n",
    "\n",
    "\n",
    "## Things to demonstrate:\n",
    "\n",
    "* Point subset, NCSS\n",
    "* Time range subset, NCSS\n",
    "* BBox subset, NCSS\n",
    "* Query time range, geo range, variable metadata, NCSS\n",
    "\n",
    "* See if aggregation across files within a dataset is possible with NCSS or some other service\n",
    "* See what the JupyterNotebook service does\n",
    "\n",
    "* Show OPENDAP"
   ]
  },
  {
   "cell_type": "code",
   "execution_count": 1,
   "id": "3bd27c89-9997-4098-895a-6555345d0fbb",
   "metadata": {},
   "outputs": [],
   "source": [
    "from siphon.catalog import TDSCatalog, SimpleService\n",
    "from siphon.http_util import session_manager\n",
    "\n",
    "# Exception handling\n",
    "from urllib.error import HTTPError\n",
    "\n",
    "import pprint\n",
    "import json\n"
   ]
  },
  {
   "cell_type": "markdown",
   "id": "3a34d971-b57b-48a0-b9ac-b0e7810b3361",
   "metadata": {},
   "source": [
    "## THREDDS Helper Functions"
   ]
  },
  {
   "cell_type": "code",
   "execution_count": 1,
   "id": "42d02e0d-89df-4046-85fe-606903a1ded8",
   "metadata": {
    "tags": []
   },
   "outputs": [],
   "source": [
    "def print_catalog_children(catalog_URL):\n",
    "    \"\"\" print the list of 'name-url' pairs describing child datasets for the given catalog URL.\n",
    "    \"\"\"\n",
    "    # Load the given catalog into memory\n",
    "    catalog = TDSCatalog(catalog_URL)\n",
    "        \n",
    "    # Collect the dataset names and child catalog names for this catalog\n",
    "    datasets = list(catalog.datasets)\n",
    "    childrefs = list(catalog.catalog_refs)\n",
    "    try: \n",
    "        latest = catalog.latest\n",
    "        latest_name = latest.name\n",
    "    except AttributeError:\n",
    "        latest = None\n",
    "        latest_name = \"Not Defined\"\n",
    "    \n",
    "    print(f\"  Num Datasets = {len(datasets):6d}, Num Child Catalogs = {len(childrefs):6d}, Latest: {latest_name}, Catalog_URL: {catalog.catalog_url}\")\n",
    "    for dataset_name in datasets:\n",
    "        dataset = catalog.datasets[dataset_name]\n",
    "        #service_names = [key for (key,value) in dataset.access_urls]\n",
    "        service_names = dataset.access_urls.keys()\n",
    "        service_urls = json.dumps(dataset.access_urls, indent=4)\n",
    "        print(f\"     '{dataset_name}':  {service_names}\")   \n",
    "    \n",
    "    # Print name and metadata for each child catalog\n",
    "    index_value = 0\n",
    "    child_cats = []\n",
    "    for childref in childrefs:\n",
    "        child_cat = catalog.catalog_refs[childref]\n",
    "        child_cat = child_cat.follow()\n",
    "        print(f\"child_cats[{index_value}]: '{childref}', num_datasets: {len(child_cat.datasets)},  child_url: {child_cat.catalog_url}\")\n",
    "        index_value = index_value + 1\n",
    "        child_cats.append(child_cat)\n",
    "\n",
    "    # Return useful items from catalog\n",
    "    return datasets, child_cats, latest"
   ]
  },
  {
   "cell_type": "code",
   "execution_count": null,
   "id": "2dcca59a-dfe0-4ecf-80b5-f3105dc3c459",
   "metadata": {},
   "outputs": [],
   "source": []
  },
  {
   "cell_type": "code",
   "execution_count": 4,
   "id": "3a7385ee-8fa7-44ac-b3ca-daba029e56be",
   "metadata": {},
   "outputs": [
    {
     "name": "stdout",
     "output_type": "stream",
     "text": [
      "      Latest Dataset:   Num Datasets =      0, Num Child Catalogs =      3, Latest: Not Defined, Catalog_URL: https://thredds.rda.ucar.edu/thredds/catalog/catalog_ds083.2.xml\n",
      "child_cats[0]: 'ds083.2 Files', num_datasets: 2,  child_url: https://thredds.rda.ucar.edu/thredds/catalog/files/g/ds083.2/catalog.xml\n",
      "child_cats[1]: 'ds083.2 Aggregation Oct 1999 to Dec 2007', num_datasets: 2,  child_url: https://thredds.rda.ucar.edu/thredds/catalog/aggregations/g/ds083.2/1/catalog.xml\n",
      "child_cats[2]: 'ds083.2 Aggregation Dec 2007 to Current', num_datasets: 2,  child_url: https://thredds.rda.ucar.edu/thredds/catalog/aggregations/g/ds083.2/2/catalog.xml\n"
     ]
    }
   ],
   "source": [
    "# Explore RDA Aggregation Dataset\n",
    "cat_url = 'https://thredds.rda.ucar.edu/thredds/catalog/catalog_ds083.2.xml'\n",
    "print_catalog_children(cat_url)"
   ]
  },
  {
   "cell_type": "code",
   "execution_count": 7,
   "id": "e1b25125-59a0-412e-9a61-252890c22eb3",
   "metadata": {},
   "outputs": [
    {
     "name": "stdout",
     "output_type": "stream",
     "text": [
      "      Latest Dataset:   Num Datasets =      2, Num Child Catalogs =     17, Latest: ds083.2 Aggregation Dec 2007 to Current-2023, Catalog_URL: https://thredds.rda.ucar.edu/thredds/catalog/aggregations/g/ds083.2/2/catalog.xml\n",
      "     'Full Collection Dataset':  dict_keys(['OpenDAP', 'DAP4', 'NetcdfSubset', 'CdmRemote', 'CdmrFeature', 'JupyterNotebook', 'WCS', 'WMS', 'ISO', 'NCML', 'UDDC'])\n",
      "     'Latest Collection for ds083.2 Aggregation Dec 2007 to Current':  dict_keys(['OpenDAP', 'DAP4', 'NetcdfSubset', 'CdmRemote', 'CdmrFeature', 'JupyterNotebook', 'WCS', 'WMS', 'ISO', 'NCML', 'UDDC'])\n",
      "child_cats[0]: 'ds083.2 Aggregation Dec 2007 to Current-2007', num_datasets: 103,  child_url: https://thredds.rda.ucar.edu/thredds/catalog/aggregations/g/ds083.2/2/ds083.2_Grib2-2007/catalog.xml\n",
      "child_cats[1]: 'ds083.2 Aggregation Dec 2007 to Current-2008', num_datasets: 1465,  child_url: https://thredds.rda.ucar.edu/thredds/catalog/aggregations/g/ds083.2/2/ds083.2_Grib2-2008/catalog.xml\n",
      "child_cats[2]: 'ds083.2 Aggregation Dec 2007 to Current-2009', num_datasets: 1461,  child_url: https://thredds.rda.ucar.edu/thredds/catalog/aggregations/g/ds083.2/2/ds083.2_Grib2-2009/catalog.xml\n",
      "child_cats[3]: 'ds083.2 Aggregation Dec 2007 to Current-2010', num_datasets: 1461,  child_url: https://thredds.rda.ucar.edu/thredds/catalog/aggregations/g/ds083.2/2/ds083.2_Grib2-2010/catalog.xml\n",
      "child_cats[4]: 'ds083.2 Aggregation Dec 2007 to Current-2011', num_datasets: 1461,  child_url: https://thredds.rda.ucar.edu/thredds/catalog/aggregations/g/ds083.2/2/ds083.2_Grib2-2011/catalog.xml\n",
      "child_cats[5]: 'ds083.2 Aggregation Dec 2007 to Current-2012', num_datasets: 1465,  child_url: https://thredds.rda.ucar.edu/thredds/catalog/aggregations/g/ds083.2/2/ds083.2_Grib2-2012/catalog.xml\n",
      "child_cats[6]: 'ds083.2 Aggregation Dec 2007 to Current-2013', num_datasets: 1461,  child_url: https://thredds.rda.ucar.edu/thredds/catalog/aggregations/g/ds083.2/2/ds083.2_Grib2-2013/catalog.xml\n",
      "child_cats[7]: 'ds083.2 Aggregation Dec 2007 to Current-2014', num_datasets: 1461,  child_url: https://thredds.rda.ucar.edu/thredds/catalog/aggregations/g/ds083.2/2/ds083.2_Grib2-2014/catalog.xml\n",
      "child_cats[8]: 'ds083.2 Aggregation Dec 2007 to Current-2015', num_datasets: 1461,  child_url: https://thredds.rda.ucar.edu/thredds/catalog/aggregations/g/ds083.2/2/ds083.2_Grib2-2015/catalog.xml\n",
      "child_cats[9]: 'ds083.2 Aggregation Dec 2007 to Current-2016', num_datasets: 1465,  child_url: https://thredds.rda.ucar.edu/thredds/catalog/aggregations/g/ds083.2/2/ds083.2_Grib2-2016/catalog.xml\n",
      "child_cats[10]: 'ds083.2 Aggregation Dec 2007 to Current-2017', num_datasets: 1461,  child_url: https://thredds.rda.ucar.edu/thredds/catalog/aggregations/g/ds083.2/2/ds083.2_Grib2-2017/catalog.xml\n",
      "child_cats[11]: 'ds083.2 Aggregation Dec 2007 to Current-2018', num_datasets: 1461,  child_url: https://thredds.rda.ucar.edu/thredds/catalog/aggregations/g/ds083.2/2/ds083.2_Grib2-2018/catalog.xml\n",
      "child_cats[12]: 'ds083.2 Aggregation Dec 2007 to Current-2019', num_datasets: 1461,  child_url: https://thredds.rda.ucar.edu/thredds/catalog/aggregations/g/ds083.2/2/ds083.2_Grib2-2019/catalog.xml\n",
      "child_cats[13]: 'ds083.2 Aggregation Dec 2007 to Current-2020', num_datasets: 1465,  child_url: https://thredds.rda.ucar.edu/thredds/catalog/aggregations/g/ds083.2/2/ds083.2_Grib2-2020/catalog.xml\n",
      "child_cats[14]: 'ds083.2 Aggregation Dec 2007 to Current-2021', num_datasets: 1461,  child_url: https://thredds.rda.ucar.edu/thredds/catalog/aggregations/g/ds083.2/2/ds083.2_Grib2-2021/catalog.xml\n",
      "child_cats[15]: 'ds083.2 Aggregation Dec 2007 to Current-2022', num_datasets: 1461,  child_url: https://thredds.rda.ucar.edu/thredds/catalog/aggregations/g/ds083.2/2/ds083.2_Grib2-2022/catalog.xml\n",
      "child_cats[16]: 'ds083.2 Aggregation Dec 2007 to Current-2023', num_datasets: 289,  child_url: https://thredds.rda.ucar.edu/thredds/catalog/aggregations/g/ds083.2/2/ds083.2_Grib2-2023/catalog.xml\n"
     ]
    }
   ],
   "source": [
    "# Explore RDA Aggregation Dataset, 2007-current\n",
    "cat_url = 'https://thredds.rda.ucar.edu/thredds/catalog/aggregations/g/ds083.2/2/catalog.xml'\n",
    "print_catalog_children(cat_url)"
   ]
  },
  {
   "cell_type": "code",
   "execution_count": 10,
   "id": "08f2b938-f9a8-4a11-baec-e85d079270d6",
   "metadata": {},
   "outputs": [
    {
     "data": {
      "text/plain": [
       "{'5-Wave_Geopotential_Height_Anomaly_isobaric',\n",
       " '5-Wave_Geopotential_Height_isobaric',\n",
       " 'Absolute_vorticity_isobaric',\n",
       " 'Apparent_temperature_height_above_ground',\n",
       " 'Best_4_layer_Lifted_Index_surface',\n",
       " 'Categorical_Freezing_Rain_surface',\n",
       " 'Categorical_Ice_Pellets_surface',\n",
       " 'Categorical_Rain_surface',\n",
       " 'Categorical_Snow_surface',\n",
       " 'Cloud_mixing_ratio_hybrid',\n",
       " 'Cloud_mixing_ratio_isobaric',\n",
       " 'Cloud_water_entire_atmosphere_single_layer',\n",
       " 'Composite_reflectivity_entire_atmosphere',\n",
       " 'Convective_available_potential_energy_pressure_difference_layer',\n",
       " 'Convective_available_potential_energy_surface',\n",
       " 'Convective_inhibition_pressure_difference_layer',\n",
       " 'Convective_inhibition_surface',\n",
       " 'Dewpoint_temperature_height_above_ground',\n",
       " 'Field_Capacity_surface',\n",
       " 'Frictional_Velocity_surface',\n",
       " 'Geopotential_height_anomaly_isobaric',\n",
       " 'Geopotential_height_cloud_ceiling',\n",
       " 'Geopotential_height_highest_tropospheric_freezing',\n",
       " 'Geopotential_height_isobaric',\n",
       " 'Geopotential_height_maximum_wind',\n",
       " 'Geopotential_height_potential_vorticity_surface',\n",
       " 'Geopotential_height_surface',\n",
       " 'Geopotential_height_tropopause',\n",
       " 'Geopotential_height_zeroDegC_isotherm',\n",
       " 'Graupel_snow_pellets_hybrid',\n",
       " 'Graupel_snow_pellets_isobaric',\n",
       " 'Haines_index_surface',\n",
       " 'High_cloud_cover_high_cloud',\n",
       " 'ICAO_Standard_Atmosphere_Reference_Height_maximum_wind',\n",
       " 'ICAO_Standard_Atmosphere_Reference_Height_tropopause',\n",
       " 'Ice_cover_surface',\n",
       " 'Ice_growth_rate_altitude_above_msl',\n",
       " 'Ice_temperature_surface',\n",
       " 'Ice_thickness_surface',\n",
       " 'Ice_water_mixing_ratio_hybrid',\n",
       " 'Ice_water_mixing_ratio_isobaric',\n",
       " 'Land-sea_coverage_nearest_neighbor_land1sea0_surface',\n",
       " 'Land_cover_0__sea_1__land_surface',\n",
       " 'Liquid_Volumetric_Soil_Moisture_non_Frozen_depth_below_surface_layer',\n",
       " 'Low_cloud_cover_low_cloud',\n",
       " 'MSLP_Eta_model_reduction_msl',\n",
       " 'Medium_cloud_cover_middle_cloud',\n",
       " 'Ozone_Mixing_Ratio_isobaric',\n",
       " 'Per_cent_frozen_precipitation_surface',\n",
       " 'Planetary_Boundary_Layer_Height_surface',\n",
       " 'Plant_Canopy_Surface_Water_surface',\n",
       " 'Potential_Evaporation_Rate_surface',\n",
       " 'Potential_temperature_sigma',\n",
       " 'Precipitable_water_entire_atmosphere_single_layer',\n",
       " 'Precipitation_rate_surface',\n",
       " 'Pressure_height_above_ground',\n",
       " 'Pressure_maximum_wind',\n",
       " 'Pressure_msl',\n",
       " 'Pressure_of_level_from_which_parcel_was_lifted_pressure_difference_layer',\n",
       " 'Pressure_potential_vorticity_surface',\n",
       " 'Pressure_reduced_to_MSL_msl',\n",
       " 'Pressure_surface',\n",
       " 'Pressure_tropopause',\n",
       " 'Rain_mixing_ratio_hybrid',\n",
       " 'Rain_mixing_ratio_isobaric',\n",
       " 'Reflectivity_height_above_ground',\n",
       " 'Reflectivity_hybrid',\n",
       " 'Relative_humidity_entire_atmosphere_single_layer',\n",
       " 'Relative_humidity_height_above_ground',\n",
       " 'Relative_humidity_highest_tropospheric_freezing',\n",
       " 'Relative_humidity_isobaric',\n",
       " 'Relative_humidity_pressure_difference_layer',\n",
       " 'Relative_humidity_sigma',\n",
       " 'Relative_humidity_sigma_layer',\n",
       " 'Relative_humidity_zeroDegC_isotherm',\n",
       " 'Snow_depth_surface',\n",
       " 'Snow_mixing_ratio_hybrid',\n",
       " 'Snow_mixing_ratio_isobaric',\n",
       " 'Soil_temperature_depth_below_surface_layer',\n",
       " 'Soil_type_surface',\n",
       " 'Specific_humidity_height_above_ground',\n",
       " 'Specific_humidity_isobaric',\n",
       " 'Specific_humidity_pressure_difference_layer',\n",
       " 'Storm_relative_helicity_height_above_ground_layer',\n",
       " 'Sunshine_Duration_surface',\n",
       " 'Surface_Lifted_Index_surface',\n",
       " 'Surface_roughness_surface',\n",
       " 'Temperature_altitude_above_msl',\n",
       " 'Temperature_depth_below_surface_layer',\n",
       " 'Temperature_height_above_ground',\n",
       " 'Temperature_isobaric',\n",
       " 'Temperature_maximum_wind',\n",
       " 'Temperature_potential_vorticity_surface',\n",
       " 'Temperature_pressure_difference_layer',\n",
       " 'Temperature_sigma',\n",
       " 'Temperature_surface',\n",
       " 'Temperature_tropopause',\n",
       " 'Total_cloud_cover_convective_cloud',\n",
       " 'Total_cloud_cover_entire_atmosphere',\n",
       " 'Total_cloud_cover_isobaric',\n",
       " 'Total_ozone_entire_atmosphere_single_layer',\n",
       " 'U-Component_Storm_Motion_height_above_ground_layer',\n",
       " 'V-Component_Storm_Motion_height_above_ground_layer',\n",
       " 'Vegetation_surface',\n",
       " 'Ventilation_Rate_planetary_boundary',\n",
       " 'Vertical_Speed_Shear_potential_vorticity_surface',\n",
       " 'Vertical_Speed_Shear_tropopause',\n",
       " 'Vertical_velocity_geometric_isobaric',\n",
       " 'Vertical_velocity_pressure_isobaric',\n",
       " 'Vertical_velocity_pressure_sigma',\n",
       " 'Visibility_surface',\n",
       " 'Volumetric_Soil_Moisture_Content_depth_below_surface_layer',\n",
       " 'Water_equivalent_of_accumulated_snow_depth_surface',\n",
       " 'Wilting_Point_surface',\n",
       " 'Wind_speed_gust_surface',\n",
       " 'u-component_of_wind_altitude_above_msl',\n",
       " 'u-component_of_wind_height_above_ground',\n",
       " 'u-component_of_wind_isobaric',\n",
       " 'u-component_of_wind_maximum_wind',\n",
       " 'u-component_of_wind_planetary_boundary',\n",
       " 'u-component_of_wind_potential_vorticity_surface',\n",
       " 'u-component_of_wind_pressure_difference_layer',\n",
       " 'u-component_of_wind_sigma',\n",
       " 'u-component_of_wind_tropopause',\n",
       " 'v-component_of_wind_altitude_above_msl',\n",
       " 'v-component_of_wind_height_above_ground',\n",
       " 'v-component_of_wind_isobaric',\n",
       " 'v-component_of_wind_maximum_wind',\n",
       " 'v-component_of_wind_planetary_boundary',\n",
       " 'v-component_of_wind_potential_vorticity_surface',\n",
       " 'v-component_of_wind_pressure_difference_layer',\n",
       " 'v-component_of_wind_sigma',\n",
       " 'v-component_of_wind_tropopause'}"
      ]
     },
     "execution_count": 10,
     "metadata": {},
     "output_type": "execute_result"
    }
   ],
   "source": [
    "cat_url = 'https://thredds.rda.ucar.edu/thredds/catalog/aggregations/g/ds083.2/2/catalog.xml'\n",
    "catalog = TDSCatalog(cat_url)\n",
    "dataset = catalog.datasets[0]\n",
    "ncss = dataset.subset()\n",
    "ncss.variables"
   ]
  },
  {
   "cell_type": "code",
   "execution_count": null,
   "id": "ccde73cd-6b19-409c-bab5-66b03cb8692e",
   "metadata": {},
   "outputs": [],
   "source": [
    "metadata = ncss.metadata\n",
    "metadata.variables\n",
    "# A ton of Grib metadata that looks confusing"
   ]
  },
  {
   "cell_type": "code",
   "execution_count": 16,
   "id": "92ca3bdc-a125-4349-82f2-93386a08e4b6",
   "metadata": {},
   "outputs": [
    {
     "data": {
      "text/plain": [
       "{'begin': '2007-12-06T12:00:00Z', 'end': '2023-03-13T18:00:00Z'}"
      ]
     },
     "execution_count": 16,
     "metadata": {},
     "output_type": "execute_result"
    }
   ],
   "source": [
    "time_span = metadata.time_span"
   ]
  },
  {
   "cell_type": "code",
   "execution_count": 22,
   "id": "1598550f-126c-45e0-91cc-e9ff60c285a2",
   "metadata": {},
   "outputs": [
    {
     "data": {
      "text/plain": [
       "var=Temperature_surface&time_start=2021-03-13T18%3A00%3A00%2B00%3A00&time_end=2022-03-13T18%3A00%3A00%2B00%3A00&longitude=-105&latitude=40&accept=netcdf4"
      ]
     },
     "execution_count": 22,
     "metadata": {},
     "output_type": "execute_result"
    }
   ],
   "source": [
    "query = ncss.query()\n",
    "# Subset to Boulder, Colorado\n",
    "query.lonlat_point(lon=-105, lat=40)\n",
    "\n",
    "# Choose surface temperature\n",
    "query.variables('Temperature_surface')\n",
    "\n",
    "# Aggregate over the available time range:  This results in a 504 timeout.\n",
    "#query.all_times()\n",
    "\n",
    "from datetime import datetime\n",
    "start_time = datetime.fromisoformat('2021-03-13T18:00:00Z')\n",
    "end_time = datetime.fromisoformat('2022-03-13T18:00:00Z')\n",
    "query.time_range(start_time, end_time)\n",
    "\n",
    "\n",
    "query.accept('netcdf4')"
   ]
  },
  {
   "cell_type": "code",
   "execution_count": 23,
   "id": "636f06ab-8dec-4b5c-b068-1daf0dc5ff0e",
   "metadata": {},
   "outputs": [
    {
     "ename": "HTTPError",
     "evalue": "Error accessing https://thredds.rda.ucar.edu/thredds/ncss/grid/aggregations/g/ds083.2/2/TP?var=Temperature_surface&time_start=2021-03-13T18%3A00%3A00%2B00%3A00&time_end=2022-03-13T18%3A00%3A00%2B00%3A00&longitude=-105&latitude=40&accept=netcdf4\nServer Error (504: Gateway Time-out)",
     "output_type": "error",
     "traceback": [
      "\u001b[0;31m---------------------------------------------------------------------------\u001b[0m",
      "\u001b[0;31mHTTPError\u001b[0m                                 Traceback (most recent call last)",
      "Cell \u001b[0;32mIn[23], line 1\u001b[0m\n\u001b[0;32m----> 1\u001b[0m nc \u001b[38;5;241m=\u001b[39m \u001b[43mncss\u001b[49m\u001b[38;5;241;43m.\u001b[39;49m\u001b[43mget_data\u001b[49m\u001b[43m(\u001b[49m\u001b[43mquery\u001b[49m\u001b[43m)\u001b[49m\n",
      "File \u001b[0;32m/glade/work/bonnland/miniconda3/envs/na-cordex-explore-siphon/lib/python3.11/site-packages/siphon/ncss.py:114\u001b[0m, in \u001b[0;36mNCSS.get_data\u001b[0;34m(self, query)\u001b[0m\n\u001b[1;32m     93\u001b[0m \u001b[38;5;28;01mdef\u001b[39;00m \u001b[38;5;21mget_data\u001b[39m(\u001b[38;5;28mself\u001b[39m, query):\n\u001b[1;32m     94\u001b[0m \u001b[38;5;250m    \u001b[39m\u001b[38;5;124;03m\"\"\"Fetch parsed data from a THREDDS server using NCSS.\u001b[39;00m\n\u001b[1;32m     95\u001b[0m \n\u001b[1;32m     96\u001b[0m \u001b[38;5;124;03m    Requests data from the NCSS endpoint given the parameters in `query` and\u001b[39;00m\n\u001b[0;32m   (...)\u001b[0m\n\u001b[1;32m    112\u001b[0m \n\u001b[1;32m    113\u001b[0m \u001b[38;5;124;03m    \"\"\"\u001b[39;00m\n\u001b[0;32m--> 114\u001b[0m     resp \u001b[38;5;241m=\u001b[39m \u001b[38;5;28;43mself\u001b[39;49m\u001b[38;5;241;43m.\u001b[39;49m\u001b[43mget_query\u001b[49m\u001b[43m(\u001b[49m\u001b[43mquery\u001b[49m\u001b[43m)\u001b[49m\n\u001b[1;32m    115\u001b[0m     \u001b[38;5;28;01mreturn\u001b[39;00m response_handlers(resp, \u001b[38;5;28mself\u001b[39m\u001b[38;5;241m.\u001b[39munit_handler)\n",
      "File \u001b[0;32m/glade/work/bonnland/miniconda3/envs/na-cordex-explore-siphon/lib/python3.11/site-packages/siphon/http_util.py:410\u001b[0m, in \u001b[0;36mHTTPEndPoint.get_query\u001b[0;34m(self, query)\u001b[0m\n\u001b[1;32m    390\u001b[0m \u001b[38;5;250m\u001b[39m\u001b[38;5;124;03m\"\"\"Make a GET request, including a query, to the endpoint.\u001b[39;00m\n\u001b[1;32m    391\u001b[0m \n\u001b[1;32m    392\u001b[0m \u001b[38;5;124;03mThe path of the request is to the base URL assigned to the endpoint.\u001b[39;00m\n\u001b[0;32m   (...)\u001b[0m\n\u001b[1;32m    407\u001b[0m \n\u001b[1;32m    408\u001b[0m \u001b[38;5;124;03m\"\"\"\u001b[39;00m\n\u001b[1;32m    409\u001b[0m url \u001b[38;5;241m=\u001b[39m \u001b[38;5;28mself\u001b[39m\u001b[38;5;241m.\u001b[39m_base[:\u001b[38;5;241m-\u001b[39m\u001b[38;5;241m1\u001b[39m] \u001b[38;5;28;01mif\u001b[39;00m \u001b[38;5;28mself\u001b[39m\u001b[38;5;241m.\u001b[39m_base[\u001b[38;5;241m-\u001b[39m\u001b[38;5;241m1\u001b[39m] \u001b[38;5;241m==\u001b[39m \u001b[38;5;124m'\u001b[39m\u001b[38;5;124m/\u001b[39m\u001b[38;5;124m'\u001b[39m \u001b[38;5;28;01melse\u001b[39;00m \u001b[38;5;28mself\u001b[39m\u001b[38;5;241m.\u001b[39m_base\n\u001b[0;32m--> 410\u001b[0m \u001b[38;5;28;01mreturn\u001b[39;00m \u001b[38;5;28;43mself\u001b[39;49m\u001b[38;5;241;43m.\u001b[39;49m\u001b[43mget\u001b[49m\u001b[43m(\u001b[49m\u001b[43murl\u001b[49m\u001b[43m,\u001b[49m\u001b[43m \u001b[49m\u001b[43mquery\u001b[49m\u001b[43m)\u001b[49m\n",
      "File \u001b[0;32m/glade/work/bonnland/miniconda3/envs/na-cordex-explore-siphon/lib/python3.11/site-packages/siphon/http_util.py:492\u001b[0m, in \u001b[0;36mHTTPEndPoint.get\u001b[0;34m(self, path, params)\u001b[0m\n\u001b[1;32m    490\u001b[0m     \u001b[38;5;28;01melse\u001b[39;00m:\n\u001b[1;32m    491\u001b[0m         text \u001b[38;5;241m=\u001b[39m resp\u001b[38;5;241m.\u001b[39mtext\n\u001b[0;32m--> 492\u001b[0m     \u001b[38;5;28;01mraise\u001b[39;00m requests\u001b[38;5;241m.\u001b[39mHTTPError(\u001b[38;5;124m'\u001b[39m\u001b[38;5;124mError accessing \u001b[39m\u001b[38;5;132;01m{0}\u001b[39;00m\u001b[38;5;130;01m\\n\u001b[39;00m\u001b[38;5;124m'\u001b[39m\n\u001b[1;32m    493\u001b[0m                              \u001b[38;5;124m'\u001b[39m\u001b[38;5;124mServer Error (\u001b[39m\u001b[38;5;132;01m{1:d}\u001b[39;00m\u001b[38;5;124m: \u001b[39m\u001b[38;5;132;01m{2}\u001b[39;00m\u001b[38;5;124m)\u001b[39m\u001b[38;5;124m'\u001b[39m\u001b[38;5;241m.\u001b[39mformat(resp\u001b[38;5;241m.\u001b[39mrequest\u001b[38;5;241m.\u001b[39murl,\n\u001b[1;32m    494\u001b[0m                                                                 resp\u001b[38;5;241m.\u001b[39mstatus_code,\n\u001b[1;32m    495\u001b[0m                                                                 text))\n\u001b[1;32m    496\u001b[0m \u001b[38;5;28;01mreturn\u001b[39;00m resp\n",
      "\u001b[0;31mHTTPError\u001b[0m: Error accessing https://thredds.rda.ucar.edu/thredds/ncss/grid/aggregations/g/ds083.2/2/TP?var=Temperature_surface&time_start=2021-03-13T18%3A00%3A00%2B00%3A00&time_end=2022-03-13T18%3A00%3A00%2B00%3A00&longitude=-105&latitude=40&accept=netcdf4\nServer Error (504: Gateway Time-out)"
     ]
    }
   ],
   "source": [
    "nc = ncss.get_data(query)\n"
   ]
  },
  {
   "cell_type": "code",
   "execution_count": null,
   "id": "71f8ff93-0f4a-4590-b46a-d372500853a4",
   "metadata": {},
   "outputs": [],
   "source": [
    "# Plot\n",
    "fig, ax = plt.subplots(1, 1, figsize=(10, 10))\n",
    "temp_f = 1.8 * (nc.variables['Temperature_surface'][:] - 273.15) + 32\n",
    "ax.plot(temp_f, color='r')"
   ]
  },
  {
   "cell_type": "code",
   "execution_count": null,
   "id": "d5e3e4bb-1e07-4ba6-a0d4-dcc54badf621",
   "metadata": {},
   "outputs": [],
   "source": []
  }
 ],
 "metadata": {
  "kernelspec": {
   "display_name": "Python [conda env:miniconda3-na-cordex-explore-siphon]",
   "language": "python",
   "name": "conda-env-miniconda3-na-cordex-explore-siphon-py"
  },
  "language_info": {
   "codemirror_mode": {
    "name": "ipython",
    "version": 3
   },
   "file_extension": ".py",
   "mimetype": "text/x-python",
   "name": "python",
   "nbconvert_exporter": "python",
   "pygments_lexer": "ipython3",
   "version": "3.11.5"
  },
  "widgets": {
   "application/vnd.jupyter.widget-state+json": {
    "state": {},
    "version_major": 2,
    "version_minor": 0
   }
  }
 },
 "nbformat": 4,
 "nbformat_minor": 5
}
